{
 "cells": [
  {
   "cell_type": "code",
   "execution_count": 15,
   "id": "5481da74-3163-49a3-b58a-a9aca02c6f49",
   "metadata": {},
   "outputs": [],
   "source": [
    "import pandas as pd"
   ]
  },
  {
   "cell_type": "code",
   "execution_count": 16,
   "id": "652d0d40-857d-48b3-99fa-a19d77c4c0a3",
   "metadata": {},
   "outputs": [],
   "source": [
    "dev_mentions = pd.read_csv('dataset/dev_mentions_gold.tsv', sep='\\t')"
   ]
  },
  {
   "cell_type": "code",
   "execution_count": 17,
   "id": "ee5ba6b6-8142-4f35-8c8e-9cf7948ab4aa",
   "metadata": {},
   "outputs": [],
   "source": [
    "train_dictionary_unambiguous = pd.read_csv('dataset/train_dictionary_unambiguous.tsv', sep='\\t')"
   ]
  },
  {
   "cell_type": "code",
   "execution_count": 18,
   "id": "9912d424-d308-4a99-a16e-6f907e6a72f6",
   "metadata": {},
   "outputs": [
    {
     "data": {
      "text/html": [
       "<div>\n",
       "<style scoped>\n",
       "    .dataframe tbody tr th:only-of-type {\n",
       "        vertical-align: middle;\n",
       "    }\n",
       "\n",
       "    .dataframe tbody tr th {\n",
       "        vertical-align: top;\n",
       "    }\n",
       "\n",
       "    .dataframe thead th {\n",
       "        text-align: right;\n",
       "    }\n",
       "</style>\n",
       "<table border=\"1\" class=\"dataframe\">\n",
       "  <thead>\n",
       "    <tr style=\"text-align: right;\">\n",
       "      <th></th>\n",
       "      <th>code</th>\n",
       "      <th>term</th>\n",
       "      <th>term_original</th>\n",
       "      <th>is_unambiguous</th>\n",
       "    </tr>\n",
       "  </thead>\n",
       "  <tbody>\n",
       "    <tr>\n",
       "      <th>0</th>\n",
       "      <td>J00</td>\n",
       "      <td>κοινό κρυολόγημα</td>\n",
       "      <td>Κοινό κρυολόγημα</td>\n",
       "      <td>True</td>\n",
       "    </tr>\n",
       "    <tr>\n",
       "      <th>1</th>\n",
       "      <td>J00</td>\n",
       "      <td>οξεία ρινοφαρυγγίτιδα</td>\n",
       "      <td>Οξεία ρινοφαρυγγίτιδα</td>\n",
       "      <td>True</td>\n",
       "    </tr>\n",
       "    <tr>\n",
       "      <th>2</th>\n",
       "      <td>J00</td>\n",
       "      <td>λοιμώδης ρινίτιδα</td>\n",
       "      <td>Λοιμώδης ρινίτιδα</td>\n",
       "      <td>True</td>\n",
       "    </tr>\n",
       "    <tr>\n",
       "      <th>3</th>\n",
       "      <td>J00</td>\n",
       "      <td>οξεία ρινίτιδα</td>\n",
       "      <td>Οξεία ρινίτιδα</td>\n",
       "      <td>True</td>\n",
       "    </tr>\n",
       "    <tr>\n",
       "      <th>4</th>\n",
       "      <td>J00</td>\n",
       "      <td>ρινίτιδα (λοιμώδης)</td>\n",
       "      <td>Ρινίτιδα (λοιμώδης)</td>\n",
       "      <td>True</td>\n",
       "    </tr>\n",
       "  </tbody>\n",
       "</table>\n",
       "</div>"
      ],
      "text/plain": [
       "  code                   term          term_original  is_unambiguous\n",
       "0  J00       κοινό κρυολόγημα       Κοινό κρυολόγημα            True\n",
       "1  J00  οξεία ρινοφαρυγγίτιδα  Οξεία ρινοφαρυγγίτιδα            True\n",
       "2  J00      λοιμώδης ρινίτιδα      Λοιμώδης ρινίτιδα            True\n",
       "3  J00         οξεία ρινίτιδα         Οξεία ρινίτιδα            True\n",
       "4  J00    ρινίτιδα (λοιμώδης)    Ρινίτιδα (λοιμώδης)            True"
      ]
     },
     "execution_count": 18,
     "metadata": {},
     "output_type": "execute_result"
    }
   ],
   "source": [
    "train_dictionary_unambiguous.head()"
   ]
  },
  {
   "cell_type": "code",
   "execution_count": 19,
   "id": "75964251-3cc9-45cd-a3ff-a380f239374b",
   "metadata": {},
   "outputs": [],
   "source": [
    "el_gold = dev_mentions\n",
    "el_gold['mention'] = el_gold['text'].apply(lambda x: x.lower())"
   ]
  },
  {
   "cell_type": "code",
   "execution_count": 20,
   "id": "07e7c101-8646-45e4-baf8-5fb9b38ba11b",
   "metadata": {},
   "outputs": [
    {
     "data": {
      "text/plain": [
       "693"
      ]
     },
     "execution_count": 20,
     "metadata": {},
     "output_type": "execute_result"
    }
   ],
   "source": [
    "umls_term_texts = train_dictionary_unambiguous['term'].tolist()\n",
    "\n",
    "filter_direct_match = ~(el_gold['mention'].isin(umls_term_texts))\n",
    "\n",
    "el_gold = el_gold[filter_direct_match]\n",
    "len(el_gold)"
   ]
  },
  {
   "cell_type": "code",
   "execution_count": 22,
   "id": "c78e00ca-e43b-4fad-9de2-d3e5c4d360e4",
   "metadata": {},
   "outputs": [],
   "source": [
    "def predict(mention):\n",
    "    if mention in umls_term_texts: \n",
    "        return train_dictionary_unambiguous[train_dictionary_unambiguous['term']==mention].iloc[0]['code']\n",
    "    return \"\""
   ]
  },
  {
   "cell_type": "code",
   "execution_count": 23,
   "id": "2ab4d8b7-7334-4e90-8431-159ec01e4491",
   "metadata": {},
   "outputs": [
    {
     "data": {
      "text/html": [
       "<div>\n",
       "<style scoped>\n",
       "    .dataframe tbody tr th:only-of-type {\n",
       "        vertical-align: middle;\n",
       "    }\n",
       "\n",
       "    .dataframe tbody tr th {\n",
       "        vertical-align: top;\n",
       "    }\n",
       "\n",
       "    .dataframe thead th {\n",
       "        text-align: right;\n",
       "    }\n",
       "</style>\n",
       "<table border=\"1\" class=\"dataframe\">\n",
       "  <thead>\n",
       "    <tr style=\"text-align: right;\">\n",
       "      <th></th>\n",
       "      <th>filename</th>\n",
       "      <th>ann_id</th>\n",
       "      <th>label</th>\n",
       "      <th>start_span</th>\n",
       "      <th>end_span</th>\n",
       "      <th>text</th>\n",
       "      <th>code</th>\n",
       "      <th>mention</th>\n",
       "      <th>pred_code</th>\n",
       "    </tr>\n",
       "  </thead>\n",
       "  <tbody>\n",
       "    <tr>\n",
       "      <th>0</th>\n",
       "      <td>3</td>\n",
       "      <td>ICD</td>\n",
       "      <td>ICD</td>\n",
       "      <td>220</td>\n",
       "      <td>226</td>\n",
       "      <td>NSTEMI</td>\n",
       "      <td>I21</td>\n",
       "      <td>nstemi</td>\n",
       "      <td></td>\n",
       "    </tr>\n",
       "    <tr>\n",
       "      <th>1</th>\n",
       "      <td>3</td>\n",
       "      <td>ICD</td>\n",
       "      <td>ICD</td>\n",
       "      <td>530</td>\n",
       "      <td>544</td>\n",
       "      <td>στεφανιογραφία</td>\n",
       "      <td>Y84</td>\n",
       "      <td>στεφανιογραφία</td>\n",
       "      <td></td>\n",
       "    </tr>\n",
       "    <tr>\n",
       "      <th>2</th>\n",
       "      <td>3</td>\n",
       "      <td>ICD</td>\n",
       "      <td>ICD</td>\n",
       "      <td>549</td>\n",
       "      <td>563</td>\n",
       "      <td>αγγειοπλαστική</td>\n",
       "      <td>Z95</td>\n",
       "      <td>αγγειοπλαστική</td>\n",
       "      <td>Z95</td>\n",
       "    </tr>\n",
       "    <tr>\n",
       "      <th>3</th>\n",
       "      <td>3</td>\n",
       "      <td>ICD</td>\n",
       "      <td>ICD</td>\n",
       "      <td>1003</td>\n",
       "      <td>1017</td>\n",
       "      <td>Στεφανιογραφία</td>\n",
       "      <td>Y84</td>\n",
       "      <td>στεφανιογραφία</td>\n",
       "      <td></td>\n",
       "    </tr>\n",
       "    <tr>\n",
       "      <th>4</th>\n",
       "      <td>3</td>\n",
       "      <td>ICD</td>\n",
       "      <td>ICD</td>\n",
       "      <td>1020</td>\n",
       "      <td>1034</td>\n",
       "      <td>Αγγειοπλαστική</td>\n",
       "      <td>Z95</td>\n",
       "      <td>αγγειοπλαστική</td>\n",
       "      <td>Z95</td>\n",
       "    </tr>\n",
       "  </tbody>\n",
       "</table>\n",
       "</div>"
      ],
      "text/plain": [
       "   filename ann_id label  start_span  end_span            text code  \\\n",
       "0         3    ICD   ICD         220       226          NSTEMI  I21   \n",
       "1         3    ICD   ICD         530       544  στεφανιογραφία  Y84   \n",
       "2         3    ICD   ICD         549       563  αγγειοπλαστική  Z95   \n",
       "3         3    ICD   ICD        1003      1017  Στεφανιογραφία  Y84   \n",
       "4         3    ICD   ICD        1020      1034  Αγγειοπλαστική  Z95   \n",
       "\n",
       "          mention pred_code  \n",
       "0          nstemi            \n",
       "1  στεφανιογραφία            \n",
       "2  αγγειοπλαστική       Z95  \n",
       "3  στεφανιογραφία            \n",
       "4  αγγειοπλαστική       Z95  "
      ]
     },
     "execution_count": 23,
     "metadata": {},
     "output_type": "execute_result"
    }
   ],
   "source": [
    "dev_predictions = dev_mentions\n",
    "dev_predictions['ann_id']='ICD'\n",
    "dev_predictions['pred_code'] = dev_predictions['mention'].apply(lambda x: predict(x.lower()))\n",
    "dev_predictions.head()"
   ]
  },
  {
   "cell_type": "code",
   "execution_count": 26,
   "id": "4742934f-2518-47e4-a616-ce27cafaa5cd",
   "metadata": {},
   "outputs": [],
   "source": [
    "dev_predictions.to_csv('dataset/dev_mentions_dictionary_match.tsv', index=False, sep='\\t')"
   ]
  },
  {
   "cell_type": "code",
   "execution_count": null,
   "id": "2d24d07d-1dc3-449b-9e49-57c4c69c25cc",
   "metadata": {},
   "outputs": [],
   "source": []
  },
  {
   "cell_type": "code",
   "execution_count": null,
   "id": "2ddbf6ef-6164-4f35-9c69-7267bb3db630",
   "metadata": {},
   "outputs": [],
   "source": []
  }
 ],
 "metadata": {
  "kernelspec": {
   "display_name": "Python 3 (ipykernel)",
   "language": "python",
   "name": "python3"
  },
  "language_info": {
   "codemirror_mode": {
    "name": "ipython",
    "version": 3
   },
   "file_extension": ".py",
   "mimetype": "text/x-python",
   "name": "python",
   "nbconvert_exporter": "python",
   "pygments_lexer": "ipython3",
   "version": "3.10.12"
  }
 },
 "nbformat": 4,
 "nbformat_minor": 5
}
